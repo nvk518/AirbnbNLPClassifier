{
  "cells": [
    {
      "cell_type": "markdown",
      "metadata": {
        "id": "B4MEwB5LOJJb"
      },
      "source": [
        "L2-regularized logistic regression for binary or multiclass classification; trains a model (on `train.txt`), optimizes L2 regularization strength on `dev.txt`, and evaluates performance on `test.txt`.  Reports test accuracy with 95% confidence intervals and prints out the strongest coefficients for each class."
      ]
    },
    {
      "cell_type": "code",
      "execution_count": null,
      "metadata": {
        "id": "TQTT9x-6d2JI"
      },
      "outputs": [],
      "source": [
        "from scipy import sparse\n",
        "from sklearn import linear_model\n",
        "from collections import Counter\n",
        "import numpy as np\n",
        "import operator\n",
        "import nltk\n",
        "import math\n",
        "import re\n",
        "import pandas as pd\n",
        "from sklearn.metrics import confusion_matrix, ConfusionMatrixDisplay\n",
        "import matplotlib.pyplot as plt\n",
        "from scipy.stats import norm"
      ]
    },
    {
      "cell_type": "code",
      "execution_count": null,
      "metadata": {
        "colab": {
          "base_uri": "https://localhost:8080/"
        },
        "id": "e4KuVSCSqlUX",
        "outputId": "2146f45e-40d7-4d67-959d-effc85a2f00d",
        "scrolled": true
      },
      "outputs": [
        {
          "output_type": "stream",
          "name": "stdout",
          "text": [
            "/usr/lib/python3.10/runpy.py:126: RuntimeWarning: 'nltk.downloader' found in sys.modules after import of package 'nltk', but prior to execution of 'nltk.downloader'; this may result in unpredictable behaviour\n",
            "  warn(RuntimeWarning(msg))\n",
            "[nltk_data] Downloading package punkt to /root/nltk_data...\n",
            "[nltk_data]   Unzipping tokenizers/punkt.zip.\n"
          ]
        },
        {
          "output_type": "stream",
          "name": "stderr",
          "text": [
            "[nltk_data] Downloading package averaged_perceptron_tagger to\n",
            "[nltk_data]     /root/nltk_data...\n",
            "[nltk_data]   Unzipping taggers/averaged_perceptron_tagger.zip.\n"
          ]
        },
        {
          "output_type": "execute_result",
          "data": {
            "text/plain": [
              "True"
            ]
          },
          "metadata": {},
          "execution_count": 3
        }
      ],
      "source": [
        "!python -m nltk.downloader punkt\n",
        "nltk.download('averaged_perceptron_tagger')"
      ]
    },
    {
      "cell_type": "code",
      "source": [
        "# If you have your folder of data on your Google drive account, you can connect that here\n",
        "from google.colab import drive\n",
        "drive.mount('/content/drive')\n",
        "\n",
        "# Change this to the directory with your data\n",
        "directory=\"/content/drive/MyDrive/\"\n",
        "\n",
        "trainingFile = directory + \"splits/train.txt\"\n",
        "devFile = directory + \"splits/dev.txt\"\n",
        "testFile = directory + \"splits/test.txt\""
      ],
      "metadata": {
        "colab": {
          "base_uri": "https://localhost:8080/"
        },
        "id": "gnjaWpUMIK_Y",
        "outputId": "b088d94e-bb6e-4f14-b939-558eac3a0b8f"
      },
      "execution_count": null,
      "outputs": [
        {
          "output_type": "stream",
          "name": "stdout",
          "text": [
            "Drive already mounted at /content/drive; to attempt to forcibly remount, call drive.mount(\"/content/drive\", force_remount=True).\n"
          ]
        }
      ]
    },
    {
      "cell_type": "code",
      "execution_count": null,
      "metadata": {
        "id": "bLKI1Rk9OJJg"
      },
      "outputs": [],
      "source": [
        "def load_data(filename):\n",
        "    X = []\n",
        "    Y = []\n",
        "    with open(filename, encoding=\"utf-8\") as file:\n",
        "        for line in file:\n",
        "            cols = line.split(\"\\t\")\n",
        "            idd = cols[0]\n",
        "            label = cols[2].lstrip().rstrip()\n",
        "            text = cols[3]\n",
        "\n",
        "            X.append(text)\n",
        "            Y.append(label)\n",
        "\n",
        "    return X, Y\n"
      ]
    },
    {
      "cell_type": "code",
      "execution_count": null,
      "metadata": {
        "id": "CGiM8qQiJOBU"
      },
      "outputs": [],
      "source": [
        "class Classifier:\n",
        "\n",
        "    def __init__(self, feature_method, trainX, trainY, devX, devY, testX, testY):\n",
        "        self.feature_vocab = {}\n",
        "        self.feature_method = feature_method\n",
        "        self.min_feature_count=2\n",
        "        self.log_reg = None\n",
        "\n",
        "        self.trainY=trainY\n",
        "        self.devY=devY\n",
        "        self.testY=testY\n",
        "        \n",
        "        self.trainX = self.process(trainX, training=True)\n",
        "        self.devX = self.process(devX, training=False)\n",
        "        self.testX = self.process(testX, training=False)\n",
        "\n",
        "        self.devX2 = devX\n",
        "\n",
        "    # Featurize entire dataset\n",
        "    def featurize(self, data):\n",
        "        featurized_data = []\n",
        "        for text in data:\n",
        "            feats = self.feature_method(text)\n",
        "            featurized_data.append(feats)\n",
        "        return featurized_data\n",
        "\n",
        "    # Read dataset and returned featurized representation as sparse matrix + label array\n",
        "    def process(self, X_data, training = False):\n",
        "        \n",
        "        data = self.featurize(X_data)\n",
        "\n",
        "        if training:\n",
        "            fid = 0\n",
        "            feature_doc_count = Counter()\n",
        "            for feats in data:\n",
        "                for feat in feats:\n",
        "                    feature_doc_count[feat]+= 1\n",
        "\n",
        "            for feat in feature_doc_count:\n",
        "                if feature_doc_count[feat] >= self.min_feature_count:\n",
        "                    self.feature_vocab[feat] = fid\n",
        "                    fid += 1\n",
        "\n",
        "        F = len(self.feature_vocab)\n",
        "        D = len(data)\n",
        "        X = sparse.dok_matrix((D, F))\n",
        "        for idx, feats in enumerate(data):\n",
        "            for feat in feats:\n",
        "                if feat in self.feature_vocab:\n",
        "                    X[idx, self.feature_vocab[feat]] = feats[feat]\n",
        "\n",
        "        return X\n",
        "\n",
        "\n",
        "    # Train model and evaluate on held-out data\n",
        "\n",
        "    def train(self):\n",
        "        (D,F) = self.trainX.shape\n",
        "        best_dev_accuracy=0\n",
        "        best_model=None\n",
        "        input = []\n",
        "        predicted = []\n",
        "        actual = []\n",
        "        # for C in [0.1, 1, 10, 100, 200, 500, 1000]:\n",
        "        for C in [10]:\n",
        "            self.log_reg = linear_model.LogisticRegression(C = C, max_iter=1000)\n",
        "            self.log_reg.fit(self.trainX, self.trainY)\n",
        "            training_accuracy = self.log_reg.score(self.trainX, self.trainY)\n",
        "            input = input + self.devX2\n",
        "            predicted = predicted + self.log_reg.predict(self.devX).tolist()\n",
        "            actual = actual + self.devY\n",
        "            development_accuracy = self.log_reg.score(self.devX, self.devY)\n",
        "            if development_accuracy > best_dev_accuracy:\n",
        "                best_dev_accuracy=development_accuracy\n",
        "                best_model=self.log_reg\n",
        "\n",
        "            print(\"C: %s, Train accuracy: %.3f, Dev accuracy: %.3f\" % (C, training_accuracy, development_accuracy))\n",
        "        output = np.array([input, predicted, actual]).T.tolist()\n",
        "        df = pd.DataFrame(output)\n",
        "\n",
        "        print(\"\\nDev Label Predicted/Expected\")\n",
        "        print(df.to_string())\n",
        "\n",
        "        gb1 = df.drop(columns=[0]).groupby(by=1).count()\n",
        "        print(\"\\nPredicted Counts\")\n",
        "        print(gb1.to_string())\n",
        "\n",
        "        gb2 = df.drop(columns=[0]).groupby(by=2).count()\n",
        "        print(\"\\nExpected Counts\")\n",
        "        print(gb2.to_string())\n",
        "\n",
        "        gb3 = df.groupby([1,2]).count()\n",
        "        print(\"\\nPredicted/Expected Counts\")\n",
        "        print(gb3.to_string())\n",
        "        self.log_reg=best_model\n",
        "        \n",
        "\n",
        "    def test(self):\n",
        "        return self.log_reg.score(self.testX, self.testY)\n",
        "        \n",
        "\n",
        "    def printWeights(self, n=10):\n",
        "\n",
        "        reverse_vocab=[None]*len(self.log_reg.coef_[0])\n",
        "        for k in self.feature_vocab:\n",
        "            reverse_vocab[self.feature_vocab[k]]=k\n",
        "\n",
        "        # binary\n",
        "        if len(self.log_reg.classes_) == 2:\n",
        "              weights=self.log_reg.coef_[0]\n",
        "\n",
        "              cat=self.log_reg.classes_[1]\n",
        "              for feature, weight in list(reversed(sorted(zip(reverse_vocab, weights), key = operator.itemgetter(1))))[:n]:\n",
        "                  print(\"%s\\t%.3f\\t%s\" % (cat, weight, feature))\n",
        "              print()\n",
        "\n",
        "              cat=self.log_reg.classes_[0]\n",
        "              for feature, weight in list(sorted(zip(reverse_vocab, weights), key = operator.itemgetter(1)))[:n]:\n",
        "                  print(\"%s\\t%.3f\\t%s\" % (cat, weight, feature))\n",
        "              print()\n",
        "\n",
        "        # multiclass\n",
        "        else:\n",
        "          for i, cat in enumerate(self.log_reg.classes_):\n",
        "\n",
        "              weights=self.log_reg.coef_[i]\n",
        "\n",
        "              for feature, weight in list(reversed(sorted(zip(reverse_vocab, weights), key = operator.itemgetter(1))))[:n]:\n",
        "                  print(\"%s\\t%.3f\\t%s\" % (cat, weight, feature))\n",
        "              print()"
      ]
    },
    {
      "cell_type": "code",
      "execution_count": null,
      "metadata": {
        "id": "crCF_3SjOJJi"
      },
      "outputs": [],
      "source": [
        "def binary_bow_featurize(text):\n",
        "    feats = {}\n",
        "    words = nltk.word_tokenize(text)\n",
        "\n",
        "    for word in words:\n",
        "        word=word.lower()\n",
        "        feats[word]=1\n",
        "            \n",
        "    return feats"
      ]
    },
    {
      "cell_type": "code",
      "source": [
        "def bag_of_words(text):\n",
        "    words = nltk.word_tokenize(text)\n",
        "    feats = {}\n",
        "    for word in words:\n",
        "        feats[word] = feats.get(word, 0) + 1\n",
        "    return feats"
      ],
      "metadata": {
        "id": "rRIrxpjEdkvv"
      },
      "execution_count": null,
      "outputs": []
    },
    {
      "cell_type": "code",
      "source": [
        "def word_length(text):\n",
        "    words = nltk.word_tokenize(text)\n",
        "    feats = {}\n",
        "    for word in words:\n",
        "        length = len(word)\n",
        "        feats[length] = feats.get(length, 0) + 1\n",
        "    return feats"
      ],
      "metadata": {
        "id": "pkPEnJ7mQSir"
      },
      "execution_count": null,
      "outputs": []
    },
    {
      "cell_type": "code",
      "source": [
        "def text_length(text):\n",
        "    words = nltk.word_tokenize(text)\n",
        "    feats = {}\n",
        "    feats[len(words)] = 1\n",
        "    return feats"
      ],
      "metadata": {
        "id": "-DxHEIrAlKUK"
      },
      "execution_count": null,
      "outputs": []
    },
    {
      "cell_type": "code",
      "source": [
        "def capital(text):\n",
        "    feature = {}\n",
        "    feature['capital_letter_count'] = sum(1 for char in text if char.isupper())\n",
        "    return feature"
      ],
      "metadata": {
        "id": "V2tmzxWkln9I"
      },
      "execution_count": null,
      "outputs": []
    },
    {
      "cell_type": "code",
      "source": [
        "def ngram(text, n=2):\n",
        "    words = nltk.word_tokenize(text)\n",
        "    feats = {}\n",
        "    for i in range(len(words) - n + 1):\n",
        "        gram = ' '.join(words[i:i+n])\n",
        "        feats[gram] = feats.get(gram, 0) + 1\n",
        "    return feats"
      ],
      "metadata": {
        "id": "u_LMH4Sndnv_"
      },
      "execution_count": null,
      "outputs": []
    },
    {
      "cell_type": "code",
      "source": [
        "def pos_tags(text):\n",
        "    words = nltk.word_tokenize(text)\n",
        "    pos_tags = nltk.pos_tag(words)\n",
        "    feats = {}\n",
        "    for _, pos_tag in pos_tags:\n",
        "        feats[pos_tag] = feats.get(pos_tag, 0) + 1\n",
        "    return feats"
      ],
      "metadata": {
        "id": "QdC6xGtcdukZ"
      },
      "execution_count": null,
      "outputs": []
    },
    {
      "cell_type": "code",
      "source": [
        "def char_ngram(text, n=4):\n",
        "    feats = {}\n",
        "    for i in range(len(text) - n + 1):\n",
        "        gram = text[i:i+n]\n",
        "        feats[gram] = feats.get(gram, 0) + 1\n",
        "    return feats"
      ],
      "metadata": {
        "id": "6ENZx0zbkfjF"
      },
      "execution_count": null,
      "outputs": []
    },
    {
      "cell_type": "code",
      "source": [
        "luxury_keywords = ['elegant', 'balcony', 'luxe', 'luxurious', 'luxury', 'unique', 'private', 'spa', 'waterfront', 'sauna', 'views', 'villa', 'mansion', 'manor', 'penthouse', 'king', 'queen', 'resort', 'oceanfront', 'pool', 'rooftop', 'jacuzzi', 'loft', 'property', '5-star', 'estate', 'royal']\n",
        "family_friendly_keywords = ['kids', 'backyard', 'duplex', 'groups', 'family', 'family-friendly', 'families', 'sleeps', 'playground', 'games', 'home', 'house', 'townhouse', 'safe', 'quiet', 'yard', 'park', 'outdoor', 'pup', 'pet', 'dog']\n",
        "nature_keywords = ['nature', 'natural', 'creek', 'woods', 'hike', 'oasis', 'country', 'rural', 'scenic', 'tranquil', 'peaceful',  'hiking', 'beach', 'forest', 'cabin', 'lodge', 'wooded', 'campsite', 'river', 'trees', 'mountain', 'ski', 'cottage', 'garden', 'sea', 'ocean', 'retreat', 'escape', 'outdoor']\n",
        "budget_keywords = ['budget', 'low', 'room', 'free', 'save', 'bunk', 'deal', 'price', 'discount', '1br', 'single', 'clean', 'sanitized', 'charming', 'cozy', 'one', 'bedroom', 'tiny', 'inn', 'hostel', 'studio', 'budget', 'friendly', 'affordable', 'economical', 'wifi', 'rv', 'parking', '1 bedroom', '1 bath', 'loft']\n",
        "convenience_keywords = ['conveniently', 'convenient', 'convenience' 'walkable', 'walk', 'walking', 'distance', 'miles', 'steps', 'from', 'close', 'by', 'to', 'near', 'downtown', 'heart', 'located', 'location', 'minutes', 'short', 'drive', 'across', 'minute', 'off']"
      ],
      "metadata": {
        "id": "5eJPwnGpgXH3"
      },
      "execution_count": null,
      "outputs": []
    },
    {
      "cell_type": "code",
      "source": [
        "# possible luxury words: chic, modern"
      ],
      "metadata": {
        "id": "A4OWnMYEx8CW"
      },
      "execution_count": null,
      "outputs": []
    },
    {
      "cell_type": "code",
      "source": [
        "def custom(text):\n",
        "    feats = {}\n",
        "\n",
        "    keywords_list = [luxury_keywords, family_friendly_keywords, nature_keywords, budget_keywords, convenience_keywords]\n",
        "    label_list = [\"luxury\", \"family-friendly\", \"nature\", \"budget\", \"convenience\"]\n",
        "\n",
        "    words = nltk.word_tokenize(text.lower())\n",
        "\n",
        "\n",
        "    for i in range(len(keywords_list)):\n",
        "      keywords = keywords_list[i]\n",
        "      for word in keywords:\n",
        "        if word in words:\n",
        "          feats[label_list[i]] = feats.get(label_list[i], 0) + 1\n",
        "        \n",
        "    # for token in words:\n",
        "    #   if re.match(\"^[0-9]+$\", token) and len(token) > 1:\n",
        "    #     feats[\"convenience\"] = feats.get(\"convenience\", 0) + 1\n",
        "    #   elif re.match(\"^[0-9]$\", token):\n",
        "    #     feats[\"budget\"] = feats.get(\"budget\", 0) + 1\n",
        "    # feature = {word: (word in words) for word in keywords}\n",
        "    return feats"
      ],
      "metadata": {
        "id": "cgGm6fhWfM8X"
      },
      "execution_count": null,
      "outputs": []
    },
    {
      "cell_type": "code",
      "source": [
        "def combiner_function(text):\n",
        "\n",
        "    # Here the `all_feats` dict should contain the features -- the key should be the feature name, \n",
        "    # and the value is the feature value.  See `simple_featurize` for an example.\n",
        "    # at the moment, all 4 of: bag of words and your 3 original features are handed off to the combined model\n",
        "    # update the values within [bag_of_words, feature1, feature2, feature3] to change this.\n",
        "    \n",
        "    all_feats={}\n",
        "    for feature in [binary_bow_featurize, custom, char_ngram, ]:\n",
        "        all_feats.update(feature(text))\n",
        "    return all_feats"
      ],
      "metadata": {
        "id": "yE4YkvPUIlID"
      },
      "execution_count": null,
      "outputs": []
    },
    {
      "cell_type": "code",
      "execution_count": null,
      "metadata": {
        "id": "dO67fiuoOJJi"
      },
      "outputs": [],
      "source": [
        "def confidence_intervals(accuracy, n, significance_level):\n",
        "    critical_value=(1-significance_level)/2\n",
        "    z_alpha=-1*norm.ppf(critical_value)\n",
        "    se=math.sqrt((accuracy*(1-accuracy))/n)\n",
        "    return accuracy-(se*z_alpha), accuracy+(se*z_alpha)"
      ]
    },
    {
      "cell_type": "code",
      "source": [
        "\n",
        "# def print_confusion(classifier):\n",
        "#     fig, ax = plt.subplots(figsize=(10,10))\n",
        "#     ConfusionMatrixDisplay(classifier.log_reg, classifier.devX, classifier.devY, ax=ax, xticks_rotation=\"vertical\", values_format=\"d\")\n",
        "#     plt.show()\n",
        "\n",
        "def print_confusion(classifier):\n",
        "    y_true = classifier.testY\n",
        "    y_pred = classifier.predict(classifier.testX)\n",
        "    cm = confusion_matrix(y_true, y_pred)\n",
        "    disp = ConfusionMatrixDisplay(confusion_matrix=cm, display_labels=classifier.target_names)\n",
        "    disp.plot()\n"
      ],
      "metadata": {
        "id": "3lVbzlM1UCZ1"
      },
      "execution_count": null,
      "outputs": []
    },
    {
      "cell_type": "code",
      "execution_count": null,
      "metadata": {
        "id": "13oSVGBmOJJj"
      },
      "outputs": [],
      "source": [
        "def run(trainingFile, devFile, testFile):\n",
        "    trainX, trainY=load_data(trainingFile)\n",
        "    devX, devY=load_data(devFile)\n",
        "    testX, testY=load_data(testFile)\n",
        "    simple_classifier = Classifier(combiner_function, trainX, trainY, devX, devY, testX, testY)\n",
        "    simple_classifier.train()\n",
        "    accuracy=simple_classifier.test()\n",
        "    \n",
        "    lower, upper=confidence_intervals(accuracy, len(testY), .95)\n",
        "    print(\"Test accuracy for best dev model: %.3f, 95%% CIs: [%.3f %.3f]\\n\" % (accuracy, lower, upper))\n",
        "\n",
        "    simple_classifier.printWeights()\n",
        "    # print_confusion(simple_classifier)\n",
        "    \n"
      ]
    },
    {
      "cell_type": "code",
      "execution_count": null,
      "metadata": {
        "id": "4Dez2if_OJJj",
        "outputId": "8699f8fc-48c5-47f2-896c-91c3756633f0",
        "colab": {
          "base_uri": "https://localhost:8080/"
        }
      },
      "outputs": [
        {
          "output_type": "stream",
          "name": "stdout",
          "text": [
            "C: 10, Train accuracy: 1.000, Dev accuracy: 0.663\n",
            "\n",
            "Dev Label Predicted/Expected\n",
            "                                                                                                         0                1                2\n",
            "0                                                                                                listing\\n            label            label\n",
            "1                                                                                        Home Sweet Home\\n  Family-friendly  Family-friendly\n",
            "2                                                             ‚òÄ Sun-drenched Chic \"The SOHO Cabin\" ‚ùÑ\\n           Nature           Luxury\n",
            "3                                                             Minimalist Chic Studio With Private Garage\\n           Luxury           Luxury\n",
            "4                                                       Cozy Room in Historic Neighborhood close to City\\n      Convenience      Convenience\n",
            "5                                                                                             EDWNDSLBRB\\n           Budget           Budget\n",
            "6             Ground Floor Luxe! Kitchen, WiFi, Lanai, Flat Screen, AC+Laundry‚ÄìHali`i Kai Waikoloa 24C\\n           Budget           Luxury\n",
            "7                                                                            Lockhart Lodge @ Bent Creek\\n           Nature           Nature\n",
            "8                                                                     Quiet/private/clean/free wi-fi (2)\\n           Budget           Budget\n",
            "9                                                                          Hollywood Beach as LOW as $49\\n           Nature           Budget\n",
            "10                                              Â≠îÈõÄÂõ≠È´òÁ∫ßÂÖ¨ÂØì‰∏ÄÂÆ§‰∏ÄÂéÖÔºåÔºà1b1b)Áã¨Á´ãËøõÂá∫\\n           Budget           Budget\n",
            "11                                                     Chicago 3bed 3bath Condo, Monthly Rentals Welcome\\n           Luxury  Family-friendly\n",
            "12                                                               Very central loft-like apartment on UWS\\n           Luxury      Convenience\n",
            "13                                                     80's Mansion with Panoramic Woodland Hills' Views\\n           Luxury           Luxury\n",
            "14                                                                                           Comfy stay!\\n           Budget           Budget\n",
            "15                                                                            Historic U-District Studio\\n           Budget           Budget\n",
            "16                                                                                  Wailea Sunset Estate\\n           Budget           Luxury\n",
            "17                                                                        1 Bedroom in a 3 bedrooms loft\\n           Budget           Budget\n",
            "18                                                          Wyndham or Worldmark  Austin - studio deluxe\\n           Budget           Budget\n",
            "19                                                                        Spacious Duplex with Courtyard\\n  Family-friendly           Budget\n",
            "20                                                                                         AG's Palace 3\\n           Budget           Luxury\n",
            "21                                                                                  Welcome to Las Vegas\\n      Convenience      Convenience\n",
            "22                                                    Newly Renovated and Spacious Room \"G\" Close to NYC\\n      Convenience      Convenience\n",
            "23                                                      Charming modern 1 bedroom 1 bath guest apartment\\n           Budget           Budget\n",
            "24                                                                                       Hale Ona studio\\n           Budget           Budget\n",
            "25                                                        Cozy Maui Condo across from Kamaole Beach Park\\n           Nature      Convenience\n",
            "26                                                                       Beautiful Condo near The Domain\\n      Convenience      Convenience\n",
            "27                                                                                Boho Banker's Hill Apt\\n           Budget           Budget\n",
            "28                                                                                  Sunshine by the Sea!\\n      Convenience           Nature\n",
            "29                                                               Warm and Cozy 2BR in Financial District\\n      Convenience           Budget\n",
            "30                                                                           Dorm-LA 817 Unit 1 / Room C\\n           Budget           Budget\n",
            "31                                                                     Bright and Cozy Room Williamsburg\\n           Budget           Budget\n",
            "32                                                         Pup Friendly, Tropically Inspired, Back Yard!\\n           Budget  Family-friendly\n",
            "33                                                                                           Wooded home\\n  Family-friendly           Nature\n",
            "34                                                           Private Bathroom with Private Entrance Door\\n           Budget           Budget\n",
            "35                                                          5 Star Kamaole Sands! Steps to Beach & Pool!\\n      Convenience      Convenience\n",
            "36                                                                      Private room in Brownstone house\\n           Budget           Budget\n",
            "37                                                    Modern Townhouse, Private Location, Near Downtown.\\n      Convenience      Convenience\n",
            "38     Kamaaina Welcome! Local Rates Posted. Kulalani 1804; Mauna Lani Resort. Secluded Villa with Class\\n           Luxury           Luxury\n",
            "39                                                                           Sea Star-4bd, 3ba, sleep 10\\n           Budget  Family-friendly\n",
            "40                                                              Las Vegas, NV, Tropicana, 1 Bedroom Z #1\\n           Budget           Budget\n",
            "41                                                            Sunny, upper floor facing the State House!\\n  Family-friendly           Luxury\n",
            "42                                                                      Luxury Exec Home in North Austin\\n           Luxury           Luxury\n",
            "43                                                                   EXCELENTE DEPARTAMENTO VISTA AL MAR\\n           Budget           Luxury\n",
            "44                                                       NEW!! SUPER SPACIOUS NOLA HOME/ AMAZING RATES!!\\n           Budget  Family-friendly\n",
            "45                                                                 Polo Towers suites/villas- 2 bdrm CES\\n           Budget           Luxury\n",
            "46                                                                                   Treehouse Apartment\\n           Budget           Nature\n",
            "47                                                                     Ultimate casually elegant retreat\\n           Nature           Luxury\n",
            "48                                                     Shige & Jane's Molokai Beachfront Condominium 208\\n           Nature      Convenience\n",
            "49                                                     Stunning Views/Tennis/8 bed 6 bath/5 min to Strip\\n      Convenience      Convenience\n",
            "50                                                          Room w/Bathroom in Townhouse w/ Rooftop Deck\\n           Budget           Budget\n",
            "51                                                                            Quiet modern chic bungalow\\n           Luxury           Luxury\n",
            "52                                                    Sunny room in historic building in Clinton Hill BK\\n           Budget           Budget\n",
            "53                                                                      You Deserve The Royal Treatment.\\n           Luxury           Luxury\n",
            "54                                                       Bushwick apartment (bedroom) right off L train!\\n           Budget      Convenience\n",
            "55                                                             Downtown, Walking Distance to Everything!\\n      Convenience      Convenience\n",
            "56                                                                                      Stella Maris Inn\\n           Budget           Budget\n",
            "57                                           L0404-2 Bedroom Townhome at the Exclusive Mauna Lani Resort\\n           Luxury           Luxury\n",
            "58                                                         King Bed with Private Bathroom &  Ocean Views\\n           Luxury           Luxury\n",
            "59                                                                          Wyndham Newport, 2 King Beds\\n           Luxury           Luxury\n",
            "60                                                          Charming 2 bedrooms 1 bath flat with parking\\n           Budget           Budget\n",
            "61                                                                     Kona Ali‚Äôi 502 Oceanfront Condo\\n           Luxury           Nature\n",
            "62                                                                     Northeast Portland, J&J Home stay\\n  Family-friendly  Family-friendly\n",
            "63                                                                      The Unique Home in New York City\\n           Luxury           Luxury\n",
            "64                                                        Live + Work + Stay + Easy | 1BR in New Orleans\\n           Budget           Budget\n",
            "65                                                                           Light-Filled Home in Austin\\n  Family-friendly  Family-friendly\n",
            "66                                                  TRIBE ‚ù§Ô∏è Deep Cleaned  Quiet 2BR, North San Jose\\n  Family-friendly  Family-friendly\n",
            "67                                                               2BR/1BA Condo. Free PARKING, Free WiFi!\\n           Budget           Budget\n",
            "68                                                    Sanitized Safe Private Villa! Large gated property\\n           Luxury           Luxury\n",
            "69                                                        PORCHLIGHT HOME Central San Diego FREE parking\\n           Budget  Family-friendly\n",
            "70                                                         Private Bedroom in Historic Downtown LA House\\n      Convenience           Budget\n",
            "71                                                                               Ultimate Beach Retreat!\\n           Nature           Nature\n",
            "72                                                              Cozy oasis with bonus loft and wfh setup\\n           Luxury           Nature\n",
            "73                                                     Sunny renovated 1 BR in Brooklyn by Prospect Park\\n      Convenience      Convenience\n",
            "74   Need a break?  Stay with us this winter - Lovely oceanview Napili Shores Resort G-257 on Napili Bay\\n           Luxury           Nature\n",
            "75                                                                     Big Room in Brownstone Apartment!\\n           Budget           Budget\n",
            "76                                                           LA hideaway with outdoor space and parking!\\n  Family-friendly           Nature\n",
            "77                                                                  Hollywood Highland Hostel And H√¥tel\\n           Budget           Budget\n",
            "78                                                        Westin Ka'anapali Ocean Resort Villas - Studio\\n           Luxury           Luxury\n",
            "79                                                                       HackerHome - Menlo Park: bunk 2\\n           Budget           Budget\n",
            "80                                                            Beautiful Apartment In Nolita for 4 Guests\\n           Luxury  Family-friendly\n",
            "81                                                    New Build for Groups and Singles In East Nashville\\n           Budget  Family-friendly\n",
            "82                                                 Leah`s Oceanfront Condo: On Boardwalk, Pool & Hot Tub\\n           Luxury      Convenience\n",
            "83                                                                          2Bed2Bath Living CorpHsng XX\\n           Budget           Budget\n",
            "84                                                                           Designer house, Urban Haven\\n  Family-friendly           Luxury\n",
            "85                                                    2 Bedroom Townhouse - Dog Friendly + Private Yard!\\n  Family-friendly  Family-friendly\n",
            "86                                                        New 2 bedroom central to San Diego & hospitals\\n      Convenience      Convenience\n",
            "87                                                                     Sexy, Cozy, Work, Play Loft for 4\\n           Budget           Budget\n",
            "88                                                     Greenwood 2 BR w/yard - Walk to shops/restaurants\\n      Convenience      Convenience\n",
            "89                                                    LARGE 2 LEVLES 4bedrooms 3bath sleep 12 w/2parking\\n  Family-friendly  Family-friendly\n",
            "90                                                            Mountain Experience Minutes from Asheville\\n      Convenience           Nature\n",
            "91                                                               Amazing '12 South' Studio with King Bed\\n           Luxury           Luxury\n",
            "92                                                                            South Lamar Zilker Cottage\\n           Nature           Nature\n",
            "93                                                      Executive Large Studio-1Bath near Silicon Valley\\n      Convenience      Convenience\n",
            "94                                                      4-Bedroom 5-Bed 3.2-Mile To Strip! Live 8-guest!\\n      Convenience  Family-friendly\n",
            "95                                                                    In the heart of the inner eastside\\n      Convenience      Convenience\n",
            "96                                                    Private Garden Cottage Fast WIFI Workspace Kitchen\\n           Nature           Nature\n",
            "97                                                                    5-star Central East Austin Retreat\\n           Luxury           Luxury\n",
            "98                                                             ‚≠ê \"Country in the City\" Cottage Retreat\\n           Nature           Nature\n",
            "99                                                                                         Soooooo good!\\n           Budget           Budget\n",
            "100                                                       Cozy private room/bath in Los Angeles-Mar Vista!           Budget           Budget\n",
            "\n",
            "Predicted Counts\n",
            "                  2\n",
            "1                  \n",
            "Budget           40\n",
            "Convenience      18\n",
            "Family-friendly  11\n",
            "Luxury           21\n",
            "Nature           10\n",
            "label             1\n",
            "\n",
            "Expected Counts\n",
            "                  1\n",
            "2                  \n",
            "Budget           32\n",
            "Convenience      18\n",
            "Family-friendly  14\n",
            "Luxury           23\n",
            "Nature           13\n",
            "label             1\n",
            "\n",
            "Predicted/Expected Counts\n",
            "                                  0\n",
            "1               2                  \n",
            "Budget          Budget           28\n",
            "                Convenience       1\n",
            "                Family-friendly   5\n",
            "                Luxury            5\n",
            "                Nature            1\n",
            "Convenience     Budget            2\n",
            "                Convenience      13\n",
            "                Family-friendly   1\n",
            "                Nature            2\n",
            "Family-friendly Budget            1\n",
            "                Family-friendly   6\n",
            "                Luxury            2\n",
            "                Nature            2\n",
            "Luxury          Convenience       2\n",
            "                Family-friendly   2\n",
            "                Luxury           14\n",
            "                Nature            3\n",
            "Nature          Budget            1\n",
            "                Convenience       2\n",
            "                Luxury            2\n",
            "                Nature            5\n",
            "label           label             1\n",
            "Test accuracy for best dev model: 0.653, 95% CIs: [0.561 0.746]\n",
            "\n",
            "Budget\t1.390\tbudget\n",
            "Budget\t0.620\t pla\n",
            "Budget\t0.554\tm in\n",
            "Budget\t0.554\tom i\n",
            "Budget\t0.551\troom\n",
            "Budget\t0.529\tóÊàø\n",
            "Budget\t0.529\t•óÊà\n",
            "Budget\t0.529\tÂ•óÊ\n",
            "Budget\t0.522\t roo\n",
            "Budget\t0.501\ty Ho\n",
            "\n",
            "Convenience\t2.382\tconvenience\n",
            "Convenience\t0.810\tt Pa\n",
            "Convenience\t0.706\tnear\n",
            "Convenience\t0.665\tst\n",
            "Convenience\t0.607\t Row\n",
            "Convenience\t0.607\trow\n",
            "Convenience\t0.601\tral \n",
            "Convenience\t0.591\t&\n",
            "Convenience\t0.587\t Spe\n",
            "Convenience\t0.569\t Gro\n",
            "\n",
            "Family-friendly\t1.627\tfamily-friendly\n",
            "Family-friendly\t0.720\thome\n",
            "Family-friendly\t0.692\t4\n",
            "Family-friendly\t0.635\tome\n",
            "\n",
            "Family-friendly\t0.609\t3\n",
            "Family-friendly\t0.560\t bed\n",
            "Family-friendly\t0.547\tbedr\n",
            "Family-friendly\t0.540\t 2 b\n",
            "Family-friendly\t0.539\tHome\n",
            "Family-friendly\t0.517\touse\n",
            "\n",
            "Luxury\t2.309\tluxury\n",
            "Luxury\t0.883\t Sui\n",
            "Luxury\t0.846\tview\n",
            "Luxury\t0.801\te Su\n",
            "Luxury\t0.795\tILLA\n",
            "Luxury\t0.795\tVILL\n",
            "Luxury\t0.771\tde S\n",
            "Luxury\t0.747\tFULL\n",
            "Luxury\t0.709\tl NY\n",
            "Luxury\t0.684\tTED \n",
            "\n",
            "Nature\t1.453\tnature\n",
            "Nature\t0.838\t Sun\n",
            "Nature\t0.699\teach\n",
            "Nature\t0.656\tr Be\n",
            "Nature\t0.648\t Per\n",
            "Nature\t0.647\tcape\n",
            "Nature\t0.616\tGard\n",
            "Nature\t0.614\t.\n",
            "Nature\t0.589\tzy  \n",
            "Nature\t0.561\tod C\n",
            "\n",
            "label\t1.249\tisti\n",
            "label\t1.226\tting\n",
            "label\t1.216\tstin\n",
            "label\t1.207\ting\n",
            "\n",
            "label\t-0.000\t0min\n",
            "label\t-0.000\t, cl\n",
            "label\t-0.000\tew L\n",
            "label\t-0.000\tdtow\n",
            "label\t-0.000\tidto\n",
            "label\t-0.000\tMidt\n",
            "\n"
          ]
        }
      ],
      "source": [
        "run(trainingFile, devFile, testFile)\n",
        "\n",
        "# dictionary -> ngrams? bag of words\n",
        "# listing length\n",
        "# capital letter count"
      ]
    },
    {
      "cell_type": "code",
      "source": [],
      "metadata": {
        "id": "85IpXHGJkclM"
      },
      "execution_count": null,
      "outputs": []
    }
  ],
  "metadata": {
    "colab": {
      "provenance": []
    },
    "kernelspec": {
      "display_name": "Python 3 (ipykernel)",
      "language": "python",
      "name": "python3"
    },
    "language_info": {
      "codemirror_mode": {
        "name": "ipython",
        "version": 3
      },
      "file_extension": ".py",
      "mimetype": "text/x-python",
      "name": "python",
      "nbconvert_exporter": "python",
      "pygments_lexer": "ipython3",
      "version": "3.8.3"
    }
  },
  "nbformat": 4,
  "nbformat_minor": 0
}